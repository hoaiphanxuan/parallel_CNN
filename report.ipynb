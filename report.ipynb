{
 "cells": [
  {
   "cell_type": "markdown",
   "id": "74bed85f",
   "metadata": {
    "id": "74bed85f"
   },
   "source": [
    "<h2 style= \"text-align:center\"> <b>Đồ án </b> </h2>\n",
    "<h2 style='text-align:center;font-size:32px'>Lập trình song song</h2>"
   ]
  },
  {
   "cell_type": "markdown",
   "id": "a8f1f9ab",
   "metadata": {
    "id": "a8f1f9ab"
   },
   "source": [
    " <font color='289C4E'>NỘI DUNG<font><a class='anchor' id='top'></a>\n",
    "    \n",
    "[1. Mô tả đồ án](#1)\n",
    "        \n",
    "[2. Cài đặt tuần tự](#2)\n",
    "        \n",
    "[3. Cài đặt song song](#3)\n",
    "\n",
    "[4. Cài đặt song song và tối ưu](#4)\n",
    "\n",
    "[5. Tự đánh giá đồ án](#5)\n",
    "\n",
    "[6. Phân công](#6)\n",
    "    \n",
    "[7. Tài liệu tham khảo](#7)\n",
    "    "
   ]
  },
  {
   "cell_type": "markdown",
   "id": "1c906a31",
   "metadata": {
    "id": "1c906a31"
   },
   "source": [
    "**Thành viên nhóm:**\n",
    "- 20120481 - Phan Xuân Hoài\n",
    "- 20120534 - Nguyễn Minh Nghĩa"
   ]
  },
  {
   "cell_type": "markdown",
   "id": "c7d36a9a",
   "metadata": {
    "id": "c7d36a9a"
   },
   "source": [
    "<a id=\"1\"></a>\n",
    "<div style=\" background-color:#cdf7c1 ; color:#e3395e; padding: 15px; border-radius:5px;text-align: center; border-style: solid; border-color: green; font-size: 35px\">1. Mô tả đồ án </div>"
   ]
  },
  {
   "cell_type": "markdown",
   "id": "d10e1c66",
   "metadata": {
    "id": "d10e1c66"
   },
   "source": [
    "<a id=\"1_1\"></a>\n",
    "<h3 style='color:#6ac61f; font-size: 25px'> a. Giới thiệu ứng dụng</h3>"
   ]
  },
  {
   "cell_type": "markdown",
   "id": "1f188102",
   "metadata": {
    "id": "1f188102"
   },
   "source": [
    "- Trong đồ án này, nhóm em thực hiện cài đặt song song và tối ưu hóa trong giai đoạn forward-pass cho lớp Convolution trong mạng CNN (LetNet5) sử dụng CUDA. Với lớp Convolution là các lớp chính của mạng nơ-ron tích chập (CNN), được sử dụng trong nhiều nhiệm vụ học máy các như phân loại hình ảnh, phát hiện đối tượng, xử lý ngôn ngữ tự nhiên.\n",
    "\n",
    "![Kiến trúc Lenet-5](./image/lenet-5.jpeg \"Kiến trúc Lenet-5\")\n",
    "\n",
    "    Kiến trúc Lenet5 sử dụng trong đồ án:\n",
    "        Layer 1: 6 kernel với kích thước 5 × 5, sử dụng hàm ReLU activation.\n",
    "        Layer 2: Max Pooling với kích thước 2 × 2\n",
    "        Layer 3: 16 kernel với kích thước 5 × 5,sử dụng hàm ReLU activation.\n",
    "        Layer 4: Max Pooling với kích thước 2 × 2\n",
    "        Layer 5: dense layer với 120 outputs, sử dụng hàm ReLU activation\n",
    "        Layer 6: dense layer với 84 outputs, sử dụng hàm ReLU activation\n",
    "        Layer 7: dense layer với 10 outputs, sử dụng hàm ReLU activation\n",
    "\n",
    "- Nhóm em sử dụng framework [mini-dnn-cpp (Mini-DNN)](https://github.com/iamhankai/mini-dnn-cpp/tree/master) làm điểm khởi đầu để triển khai phiên bản tuần tự và song song hóa lớp Convolution của LeNet-5.\n",
    "\n",
    "- Bộ dữ liệu Fashion MNIST sẽ được sử dụng để huấn luyện và kiểm tra, gồm các hình ảnh 1 chiều kích thước 28 x 28 pixel bao gồm 10 lớp đầu ra (áo phông, váy, giày thể thao, bốt, v.v.).\n"
   ]
  },
  {
   "cell_type": "markdown",
   "id": "cc4f1a1f",
   "metadata": {
    "id": "cc4f1a1f"
   },
   "source": [
    "<a id=\"1_2\"></a>\n",
    "<h3 style='color:#6ac61f; font-size: 25px'>  b. Động lực thực hiện</h3>"
   ]
  },
  {
   "cell_type": "markdown",
   "id": "abc0679f",
   "metadata": {
    "id": "abc0679f"
   },
   "source": [
    "**Nâng cao tốc độ chương trình:** Quá trình song song hóa cho lớp Convolution của Lenet-5 với CUDA giúp cải thiện tốc độ thực thi của chương trình để phù hợp với thời gian thực.\n",
    "\n",
    "**Nâng cao kiến thức và kỹ năng:** Quá trình song song hóa cho lớp Convolution của Lenet-5 với CUDA giúp nhóm em nắm vững hơn lý thuyết và thực hành về tính toán song song, cài đặt mô hình với ngôn ngữ c++, cuda.\n",
    "\n"
   ]
  },
  {
   "cell_type": "markdown",
   "id": "b3dfb893",
   "metadata": {
    "id": "b3dfb893"
   },
   "source": [
    "<a id=\"1_3\"></a>\n",
    "<h3 style='color:#6ac61f; font-size: 25px'> c. Tổng quan đóng góp</h3>"
   ]
  },
  {
   "cell_type": "markdown",
   "id": "7b7fbd3b",
   "metadata": {
    "id": "7b7fbd3b"
   },
   "source": [
    "| MSSV     | Họ tên  | Phần trăm đóng góp|\n",
    "| -------- | ------- |-------------------|\n",
    "| 20120481  | Phan Xuân Hoài   |     45%    |\n",
    "| 20120534 | Nguyễn Minh Nghĩa    |   55%   |\n"
   ]
  },
  {
   "cell_type": "markdown",
   "id": "747d86fb",
   "metadata": {
    "id": "747d86fb"
   },
   "source": [
    "<a id=\"2\"></a>\n",
    "<div style=\" background-color:#cdf7c1 ; color:#e3395e; padding: 15px; border-radius:5px;text-align: center; border-style: solid; border-color: green; font-size: 35px\">2. Cài đặt tuần tự </div>"
   ]
  },
  {
   "cell_type": "markdown",
   "id": "ff55fdbf",
   "metadata": {
    "id": "ff55fdbf"
   },
   "source": [
    "<a id=\"2_1\"></a>\n",
    "<h3 style='color:#6ac61f; font-size: 25px'>a. Flow thiết kế</h3>"
   ]
  },
  {
   "cell_type": "markdown",
   "id": "a5dc71e1",
   "metadata": {
    "id": "a5dc71e1"
   },
   "source": [
    "- Chỉnh sửa lại kiến trúc lớp Framework Mini-DNN thành Lenet-5 và train trên tập dữ liệu Fashion MNIST và lưu lại tham số.\n",
    "- Thiết lập mạng CNN Lenet-5 tuần tự và load tham số vào mô hình.\n",
    "- Với mỗi ảnh input đưa vào mô hình sẽ được xử lý tuần tự và cho ra kết quả là 1 trong 10 lớp như hình:\n",
    "\n",
    "![Flow-Sequential](./image/sequential_flow.jpg \"Flow tuần tự\")\n",
    "\n",
    "**Trong các lớp Convolution, hàm foward sẽ thực hiện:**\n",
    "\n",
    " ![im2col](./image/im2col.png)\n",
    " \n",
    " <p style=\"text-align: center;\">Nguồn: <a href=\"https://leonardoaraujosantos.gitbook.io/artificial-inteligence/machine_learning/deep_learning/convolution_layer/making_faster\">Making faster</a></p>\n",
    "\n",
    " + Filter sẽ thực hiện dịch chuyển trên ma trận ảnh đầu vào và chuyển dữ liệu thành dạng cột tạo thành ma trận có kích thước `(height_out x width_out, height_filter x width_filter x channel_in)`.\n",
    " + Filter cũng sẽ được chuyển thành dạng ma trận dạng cột với kích thước `(channel_in x height_filter x width_filter, channel_out)`.\n",
    "\n",
    " + Thực hiện nhân hai ma trận trên và cộng với bias ta được ma trận đầu ra: `(height_out x width_out, channel_out)`.\n"
   ]
  },
  {
   "cell_type": "markdown",
   "id": "15d1fb14",
   "metadata": {
    "id": "15d1fb14"
   },
   "source": [
    "<a id=\"2_2\"></a>\n",
    "<h3 style='color:#6ac61f; font-size: 25px'> b. Đánh giá</h3>"
   ]
  },
  {
   "cell_type": "markdown",
   "id": "4db99282",
   "metadata": {
    "id": "4db99282"
   },
   "source": [
    "### Mô tả flow thực nghiệm:\n",
    "+ Tải model vào mạng CNN\n",
    "+ Bắt đầu đo thời gian cho lớp Convolution 1\n",
    "+ Thực hiện vòng lặp qua cho mỗi ảnh\n",
    "+ Thực hiện tính toán tích chập cho mỗi ảnh\n",
    "+ Kết thúc đo thời gian\n",
    "+ Xuất kết quả thời gian chạy và độ chính xác\n",
    "+ Tương tự cho lớp Convolution 3"
   ]
  },
  {
   "cell_type": "markdown",
   "id": "93da6973",
   "metadata": {
    "id": "93da6973"
   },
   "source": [
    "### Thời gian thực thi\n",
    "Được tính dựa trên thời gian tính tích chập cho toàn bộ ảnh dữ liệu đầu vào ở các lớp Convolution 1 và Convolution 3."
   ]
  },
  {
   "cell_type": "markdown",
   "id": "ba921cd6",
   "metadata": {
    "id": "ba921cd6"
   },
   "source": [
    "### Tính đúng đắn\n",
    "Độ chính xác khi train là 82.96%.\n"
   ]
  },
  {
   "cell_type": "markdown",
   "id": "96338e52",
   "metadata": {
    "id": "96338e52"
   },
   "source": [
    "### Kết quả thực nghiệm:\n",
    "![Thời gian host thực thi](./image/host.png \"Thời gian và độ chính xác của host\")\n",
    "\n",
    "> **Nhận xét:** Mặc dù độ chính xác đạt 82.96% nhưng thời gian thực thi tuần tự trên host rất chậm, cần song song hóa để tăng tốc độ."
   ]
  },
  {
   "cell_type": "markdown",
   "id": "802ca869",
   "metadata": {
    "id": "802ca869"
   },
   "source": [
    "<a id=\"3\"></a>\n",
    "<div style=\" background-color:#cdf7c1 ; color:#e3395e; padding: 15px; border-radius:5px;text-align: center; border-style: solid; border-color: green; font-size: 35px\">3. Cài đặt song song hóa </div>"
   ]
  },
  {
   "cell_type": "markdown",
   "id": "b5bfe78d",
   "metadata": {
    "id": "b5bfe78d"
   },
   "source": [
    "<a id=\"3_1\"></a>\n",
    "<h3 style='color:#6ac61f; font-size: 25px'> a. Phân tích</h3>"
   ]
  },
  {
   "cell_type": "markdown",
   "id": "338e85af",
   "metadata": {
    "id": "338e85af"
   },
   "source": [
    "**Bước có thể song song hóa:** di chuyển ma trận filter trên ma trận input đầu vào và tính tích chấp cho các phần tử tương ứng trong hai lớp convolution.\n",
    "\n",
    "**Lý do:** lớp Convolution đóng vai trò quan trọng trong việc xử lý hình ảnh tuy nhiên lớp này tốn nhiều thời gian cho việc di chuyển ma trận filter trên ma trận input đầu vào tính tích chấp cho các phần tử tương ứng. Ta có thể thực hiện song song hóa việc này để tăng tốc độ cho lớp Convolution."
   ]
  },
  {
   "cell_type": "markdown",
   "id": "95a0ab98",
   "metadata": {
    "id": "95a0ab98"
   },
   "source": [
    "<a id=\"3_2\"></a>\n",
    "<h3 style='color:#6ac61f; font-size: 25px'>b. Thiết kế</h3>"
   ]
  },
  {
   "cell_type": "markdown",
   "id": "3b583115",
   "metadata": {
    "id": "3b583115"
   },
   "source": [
    "### Flow thiết kế\n",
    "- Khi hàm foward của lớp Convolution được gọi: hàm gọi kernel sẽ được thực thi bao gồm các nhiệm như cấp phát bộ nhớ, copy dữ liệu, gọi hàm kernel.\n",
    "- Block có kích thước là (BLOCKSIZE, BLOCKSIZE, 1). Với BLOCKSIZE =  16.\n",
    "- Grid có kích thước như sau:\n",
    "\n",
    "![Kernel Size](./image/kernel_size.jpg \"Kernel Size\")\n",
    "\n",
    "   > Trong đó:\n",
    "   > + height_out, weight_out: là kích thước đầu ra của ảnh\n",
    "   > + out_channel: là số lượng kênh đầu ra\n",
    "   > + n_samples: là số lượng mẫu\n",
    "- Khi đó mỗi thread sẽ xử lý một pixel output (của 1 output channel) bằng cách tính tích chập giữa các pixel tương ứng trên tất cả kênh của input và ma trận filter.\n",
    "\n",
    "![Xử lý ở mỗi thread trong Convolution 1](./image/basic_conv1.jpg \"Xử lý ở mỗi thread trong Convolution 1\")"
   ]
  },
  {
   "cell_type": "markdown",
   "id": "e662c10d",
   "metadata": {
    "id": "e662c10d"
   },
   "source": [
    "### Mô tả kỹ thuật\n",
    "Với kích thước của Gird là\n",
    "$$(n\\_samples, out\\_channel, \\frac{height\\_out * width\\_out - 1}{BLOCKSIZE * BLOCKSIZE} + 1)$$\n",
    "\n",
    "\n",
    "và kích thước Block là\n",
    "$$ (BLOCKSIZE, BLOCKSIZE, 1) $$\n",
    "\n",
    "> Mỗi thread sẽ xử lý cho 1 pixel ouput\n",
    "\n",
    "- Trong mỗi thread:\n",
    "    +  Tính index row, col của pixel đầu ra trong ảnh đầu ra.\n",
    "    +  Tính index channel, index sample mà pixel trên thuộc vào.\n",
    "    +  Lặp theo chiều dọc, ngang của filter và số kênh đầu vào:\n",
    "        + Tính tích chập giữa từng phần tử của filter và phần tử ảnh đầu vào.\n",
    "    + Kết quả cuối cùng là giá trị pixel trong ouput tại vị trí được tính dựa vào row, col, index channel, index sample đã tính."
   ]
  },
  {
   "cell_type": "markdown",
   "id": "24d7ec61",
   "metadata": {
    "id": "24d7ec61"
   },
   "source": [
    "```\n",
    "conv_basic_kernel(output, input, weight, bias)\n",
    "{\n",
    "    // Tính index của thread hiện tại\n",
    "    index_per_block ;\n",
    "\n",
    "    r =  row of the output image matrix\n",
    "    c =  col of the output image matrix\n",
    "\n",
    "    IF r, c is in output matrix\n",
    "        FOR EACH element of filter row         \n",
    "            FOR EACH element of filter column\n",
    "               FOR EACH index of input_channel      \n",
    "                    sum += input[input_index] * weight;\n",
    "                \n",
    "\n",
    "        output[out_index] = sum + bias;\n",
    "}\n",
    "```"
   ]
  },
  {
   "cell_type": "markdown",
   "id": "c218e331",
   "metadata": {
    "id": "c218e331"
   },
   "source": [
    "<a id=\"3_2\"></a>\n",
    "<h3 style='color:#6ac61f; font-size: 25px'>c. Đánh giá</h3>"
   ]
  },
  {
   "cell_type": "markdown",
   "id": "8cd0c2c9",
   "metadata": {
    "id": "8cd0c2c9"
   },
   "source": [
    "### Mô tả flow thực nghiệm\n",
    "\n",
    "1. Tải model vào mạng CNN\n",
    "2. Khi hàm forward của lớp Convolution được gọi bắt đầu đo thời gian thực thi\n",
    "3. Lấy các giá trị weight, bias, input\n",
    "4. Gọi hàm thực hiện cấp phát bộ nhớ trên GPU và copy dữ liệu vào GPU.\n",
    "5. Gọi hàm thực hiện kernel và đo thời gian thực thi kernel\n",
    "6. Kết thúc đo thời gian.\n",
    "7. Xuất kết quả thời gian chạy và độ chính xác\n"
   ]
  },
  {
   "cell_type": "markdown",
   "id": "faf3cf57",
   "metadata": {
    "id": "faf3cf57"
   },
   "source": [
    "### Tốc độ thực thi\n",
    "\n",
    "Tốc độ thực thi đươc đo bằng cách tạo Event trong cuda và ghi lại thời điểm bắt đầu và kết thúc cuối cùng sử dụng hàm cudaEventElapsedTime để tính khoảng thời gian giữa hai thời điểm.\n",
    "\n",
    "![Thời gian thực thi](./image/time_basic.jpg \"Thời gian thực thi\")"
   ]
  },
  {
   "cell_type": "markdown",
   "id": "a7bc1f4b",
   "metadata": {
    "id": "a7bc1f4b"
   },
   "source": [
    "| | C1-kernel | C1-Conv | C3-Kernel| C3-Conv|\n",
    "|--- |----|-----|--------|---------|\n",
    "|Host|    |34143.6 |     | 30042.6 |         |\n",
    "|Basic|122.58|125.528|61.1396|65.5313|"
   ]
  },
  {
   "cell_type": "markdown",
   "id": "6f7657f7",
   "metadata": {
    "id": "6f7657f7"
   },
   "source": [
    "**Nhận xét:** Thời gian thực thi trên hơi lớp convolution sau khi được song song hóa đã được tăng tốc lên rất nhiều. Với lớp Convolution 1 là gấp khoảng 272 lần, Convolution 3 là gấp 458 lần."
   ]
  },
  {
   "cell_type": "markdown",
   "id": "cd85e5a9",
   "metadata": {
    "id": "cd85e5a9"
   },
   "source": [
    "### Tính đúng đắn"
   ]
  },
  {
   "cell_type": "markdown",
   "id": "a9918398",
   "metadata": {
    "id": "a9918398"
   },
   "source": [
    "![accuracy](./image/accuracy.png)\n",
    "\n",
    "Độ chính xác đạt 82.96% do đó kết quả khi chạy song song hóa cho lớp Convolution là chính xác vì kết quả này tương đương với khi thực thi trên host."
   ]
  },
  {
   "cell_type": "markdown",
   "id": "9e4ac5c5",
   "metadata": {
    "id": "9e4ac5c5"
   },
   "source": [
    "<a id=\"4\"></a>\n",
    "<div style=\" background-color:#cdf7c1 ; color:#e3395e; padding: 15px; border-radius:5px;text-align: center; border-style: solid; border-color: green; font-size: 35px\">4. Cài đặt song song hóa và tối ưu</div>"
   ]
  },
  {
   "cell_type": "markdown",
   "id": "37dac338",
   "metadata": {
    "id": "37dac338"
   },
   "source": [
    "<a id=\"4_1\"></a>\n",
    "<h3 style='color:#6ac61f; font-size: 25px'>  a. Loop unrolling</h3>"
   ]
  },
  {
   "cell_type": "markdown",
   "id": "77538c7e",
   "metadata": {
    "id": "77538c7e"
   },
   "source": [
    "### Bước có thể tối ưu"
   ]
  },
  {
   "cell_type": "markdown",
   "id": "8c4e3b3c",
   "metadata": {
    "id": "8c4e3b3c"
   },
   "source": [
    "Trong kernel, mỗi thread sẽ phải thực hiện ba vòng lặp lồng nhau gồm lặp theo cột, theo hàng, theo số kênh đầu vào. Điều này làm cho thời gian thực thi của kernel tăng. Ta có thể phá bỏ vòng lặp, để giảm thời gian.\n"
   ]
  },
  {
   "cell_type": "markdown",
   "id": "5dd5c360",
   "metadata": {
    "id": "5dd5c360"
   },
   "source": [
    "### Thiết kế\n",
    "\n",
    "Sử dụng chỉ thị `#pragma unroll` của CUDA trước vòng lặp để yêu cầu trình biên dịch thực hiện việc unroll vòng lặp, tức là thực hiện nhiều hơn trong cùng một câu lệnh hơn trong vòng lặp để tối ưu hóa hiệu suất chương trình. Tuy nhiên, #pragma unroll cũng có thể làm giảm hiệu suất chương trình trong một số trường."
   ]
  },
  {
   "cell_type": "markdown",
   "id": "eeb3e8ec",
   "metadata": {
    "id": "eeb3e8ec"
   },
   "source": [
    "### Đánh giá"
   ]
  },
  {
   "cell_type": "markdown",
   "id": "4523fb68",
   "metadata": {
    "id": "4523fb68"
   },
   "source": [
    "- Mô tả flow thực nghiệm: tương tự với song song hóa cơ bản.\n",
    "- Thời gian thực thi: Được tính tương tự với song song hóa cơ bản\n",
    "\n",
    "\n",
    "![unroll](./image/unroll.png)\n",
    "\n",
    "\n"
   ]
  },
  {
   "cell_type": "markdown",
   "id": "21ab3de2",
   "metadata": {
    "id": "21ab3de2"
   },
   "source": [
    "| | C1-kernel | C1-Conv | C3-Kernel| C3-Conv|\n",
    "|--- |----|-----|--------|---------|\n",
    "|Host|    |34143.6 |     | 30042.6 |         |\n",
    "|Basic|122.58|125.528|61.1396|65.5313|\n",
    "|Unroll|120.787|124.16|51.8714|56.0254|\n",
    "\n",
    "> **Nhận xét:** Loop unroll giúp giảm thời gian thực thi của kernel tuy nhiên không đáng kể với Convolution 1 và khoảng 10 ms đối với lớp Convolution 3.\n",
    "\n",
    "- Tính đúng đắn:\n",
    "\n",
    "![accuracy](./image/accuracy.png)\n",
    "\n",
    "\n",
    "Độ chính xác đạt 82.96% do đó kết quả khi chạy song song hóa với tối ưu loop unroll cho lớp Convolution là chính xác vì kết quả này tương đương với khi thực thi trên host.\n"
   ]
  },
  {
   "cell_type": "markdown",
   "id": "14fa8f94",
   "metadata": {
    "id": "14fa8f94"
   },
   "source": [
    "<a id=\"4_2\"></a>\n",
    "<h3 style='color:#6ac61f; font-size: 25px'>  b. Sử dụng shared memory và constant memory</h3>"
   ]
  },
  {
   "cell_type": "markdown",
   "id": "3a6597de",
   "metadata": {
    "id": "3a6597de"
   },
   "source": [
    "### Bước có thế tối ưu\n",
    "\n",
    "- Dữ liệu ảnh input đầu vào được các thread đọc nhiều lần do đó có thể sử dụng shared memory để tăng tốc độ đọc.\n",
    "- Filter, bias được đọc nhiều lần và không thay đổi do đó có thể lưu vào constant memory để tăng tốc độ cho kernel.\n"
   ]
  },
  {
   "cell_type": "markdown",
   "id": "ffbb9bf9",
   "metadata": {
    "id": "ffbb9bf9"
   },
   "source": [
    "### Flow thiết kế"
   ]
  },
  {
   "cell_type": "markdown",
   "id": "ce598fa0",
   "metadata": {
    "id": "ce598fa0"
   },
   "source": [
    "Trong mỗi thread đọc điểm ảnh từ global memory vào shared memory (1  thread có thể đọc nhiểu điểm ảnh)\n"
   ]
  },
  {
   "cell_type": "markdown",
   "id": "b86d815f",
   "metadata": {
    "id": "b86d815f"
   },
   "source": [
    "### Mô tả kỹ thuật\n",
    "- Shared memory là một loại bộ nhớ rất nhanh và được sử dụng để tối ưu hóa việc truy cập dữ liệu giữa các luồng trong cùng một block. Dữ liệu trong bộ nhớ này có thể được truy cập và cập nhật bởi tất cả các luồng trong block một cách nhanh chóng, giúp tăng hiệu suất tính toán song song.\n",
    "- Constant memory dùng để lưu trữ dữ liệu mà các luồng có thể truy cập nhưng không thể thay đổi trong quá trình thực thi. Nó thường nhanh và có thể cung cấp hiệu suất tốt khi các luồng cần truy cập cùng một giá trị không đổi.\n"
   ]
  },
  {
   "cell_type": "markdown",
   "id": "40dce577",
   "metadata": {
    "id": "40dce577"
   },
   "source": [
    "### Đánh giá\n",
    "- Mô tả flow thực nghiệm: tương tự với song song hóa cơ bản.\n",
    "- Thời gian thực thi: Được tính tương tự với song song hóa cơ bản\n",
    "\n",
    "![image.png](./image/smem_cmem.png)"
   ]
  },
  {
   "cell_type": "markdown",
   "id": "7d8fcb58",
   "metadata": {
    "id": "7d8fcb58"
   },
   "source": [
    "| | C1-kernel | C1-Conv | C3-Kernel| C3-Conv|\n",
    "|--- |----|-----|--------|---------|\n",
    "|Host|    |34143.6 |     | 30042.6 |         |\n",
    "|Basic|122.58|125.528|61.1396|65.5313|\n",
    "|Unroll|120.787|124.16|51.8714|56.0254|\n",
    "|smem+cmem| 120.955 | 124.2 |47.0913|50.4288|\n",
    "\n",
    "> **Nhận xét:** Sử dụng shared memory và constant memory giúp giảm thời gian thực thi của kernel so với khi chưa tối ưu tuy nhiên không đáng kể với Convolution 1 và khoảng 14 ms đối với lớp Convolution 3.\n",
    "\n",
    "- Tính đúng đắn:\n",
    "\n",
    "Độ chính xác đạt 82.96% do đó kết quả khi chạy song song hóa với tối ưu sử dụng shared memory và constant memory cho lớp Convolution là chính xác vì kết quả này tương đương với khi thực thi trên host.\n"
   ]
  },
  {
   "cell_type": "markdown",
   "id": "11e0632e",
   "metadata": {
    "id": "11e0632e"
   },
   "source": [
    "<a id=\"4_3\"></a>\n",
    "<h3 style='color:#6ac61f; font-size: 25px'> c. Sử dụng stream</h3>"
   ]
  },
  {
   "cell_type": "markdown",
   "id": "93f604d0",
   "metadata": {
    "id": "93f604d0"
   },
   "source": [
    "### Bước có thế tối ưu\n",
    "\n",
    "- Các phần tử của dữ liệu input và ouput sử dụng trong kernel không có tác động lẫn nhau do đó ta có thể chia nhỏ các input, output và đưa nó vào stream để có thể overlap nhau, giảm thời gian phải chờ đợi việc copy dữ liệu từ host vào device và ngược lại.\n"
   ]
  },
  {
   "cell_type": "markdown",
   "id": "8cbf81d7",
   "metadata": {
    "id": "8cbf81d7"
   },
   "source": [
    "### Flow thiết kế\n",
    "\n",
    "- Tạo ra số lượng stream muốn sử dụng\n",
    "- Chia input và ouput của kernel thành các khoảng tương ứng với số stream\n",
    "- Với mỗi stream gọi kernel và truyền vào phần input, ouput tương ứng\n"
   ]
  },
  {
   "cell_type": "markdown",
   "id": "41998efa",
   "metadata": {
    "id": "41998efa"
   },
   "source": [
    "### Mô tả kỹ thuật\n",
    "\n",
    "Một stream trong CUDA là một chuỗi tuần tự các tác vụ tính toán hoặc truyền dữ liệu mà có thể được thực hiện đồng thời trên GPU. Bằng cách sử dụng các stream khác nhau, ta có thể chạy các tác vụ song song trên cùng một GPU.\n"
   ]
  },
  {
   "cell_type": "markdown",
   "id": "a5700eb2",
   "metadata": {
    "id": "a5700eb2"
   },
   "source": [
    "### Đánh giá\n",
    "- Mô tả flow thực nghiệm: tương tự với song song hóa cơ bản.\n",
    "- Thời gian thực thi: Được tính tương tự với song song hóa cơ bản\n",
    "\n",
    "![stream_time](./image/stream.png \"Thời gian thực thi với stream\")\n",
    "\n"
   ]
  },
  {
   "cell_type": "markdown",
   "id": "0a10d09c",
   "metadata": {
    "id": "0a10d09c"
   },
   "source": [
    "| | C1-kernel | C1-Conv | C3-Kernel| C3-Conv|Accuracy|\n",
    "|-|-----------|---------|----------|---------|---------|\n",
    "|Host|    |34143.6 |     | 30042.6 |     0.8269 |\n",
    "|Basic|122.58|125.528|61.1396|65.5313|0.8269|\n",
    "|Unroll|120.787|124.16|51.8714|56.0254|0.8269|\n",
    "|smem+cmem| 120.955 | 124.2 |47.0913|50.4288|0.8269|\n",
    "|stream|13.2949|18.179|15.188|18.6921|0.8269|\n",
    "\n",
    "> **Nhận xét:** Sử dụng stream giúp giảm đáng kể thời gian thực thi của kernel so với khi chưa tối ưu. Với Convolution 1 chạy nhanh gấp 9 lần và khoảng 4 lần đối với lớp Convolution 3.\n",
    "\n",
    "- Tính đúng đắn:\n",
    "\n",
    "![accuracy](./image/accuracy.png)\n",
    "\n",
    "Độ chính xác đạt 82.96% do đó kết quả khi chạy song song hóa với tối ưu sử dụng stream cho lớp Convolution là chính xác vì kết quả này tương đương với khi thực thi trên host.\n"
   ]
  },
  {
   "cell_type": "markdown",
   "id": "dccec306",
   "metadata": {
    "id": "dccec306"
   },
   "source": [
    "<a id=\"4_4\"></a>\n",
    "<h3 style='color:#6ac61f; font-size: 25px'> d. Kết hợp tất cả các phương pháp ở trên</h3>"
   ]
  },
  {
   "cell_type": "markdown",
   "id": "5111c5d1",
   "metadata": {
    "id": "5111c5d1"
   },
   "source": [
    "### Bước có thế tối ưu\n",
    "\n",
    "- Các phương pháp đã sử dụng ở trên có thể kết hợp với nhau\n"
   ]
  },
  {
   "cell_type": "markdown",
   "id": "f64a33b4",
   "metadata": {
    "id": "f64a33b4"
   },
   "source": [
    "### Mô tả kỹ thuật\n",
    "- Sử dụng Loop Unroll\n",
    "- Sử dụng shared memory và constant memory\n",
    "- Sử dụng stream"
   ]
  },
  {
   "cell_type": "markdown",
   "id": "089d48e5",
   "metadata": {
    "id": "089d48e5"
   },
   "source": [
    "### Đánh giá\n",
    "- Mô tả flow thực nghiệm: tương tự với song song hóa cơ bản.\n",
    "- Thời gian thực thi: Được tính tương tự với song song hóa cơ bản\n",
    "\n",
    "![image-4.png](./image/mix.png)"
   ]
  },
  {
   "cell_type": "markdown",
   "id": "1554986a",
   "metadata": {
    "id": "1554986a"
   },
   "source": [
    "| | C1-kernel | C1-Conv | C3-Kernel| C3-Conv|Accuracy|\n",
    "|--- |----|-----|--------|---------|----------|\n",
    "|Host|    |34143.6 |     | 30042.6 | 0.8269        |\n",
    "|Basic|122.58|125.528|61.1396|65.5313|0.8269|\n",
    "|Unroll|120.787|124.16|51.8714|56.0254|0.8269|\n",
    "|smem+cmem| 120.955 | 124.2 |47.0913|50.4288|0.8269|\n",
    "|Stream|13.2949|18.179|15.188|18.6921|0.8269|\n",
    "|All|13.3483|16.6544|9.99354|13.2731|0.8269|\n",
    "\n",
    "> **Nhận xét:** Sử dụng stream giúp giảm đáng kể thời gian thực thi của kernel so với khi chưa tối ưu. Tuy nhiên so với chỉ sử dụng stream thì hiệu quả không có quá nhiều khác biệt khi gần như tương đương ở Convolution 1 và nhanh hơn khoảng 5 ms ở Convolution 3.\n",
    "\n",
    "\n"
   ]
  },
  {
   "cell_type": "markdown",
   "id": "a38afdc4",
   "metadata": {
    "id": "a38afdc4"
   },
   "source": [
    "**Nhận xét chung:**\n",
    "\n",
    "    + Mặc dù loop unroll và sử dụng shared memory, constant memory có mang lại hiệu quả tuy nhiên không quá lớn và chủ yếu ở Convolution 3.\n",
    "    \n",
    "    + So với 2 phương pháp loop unroll và sử dụng shared memory, constant memory thì stream cho hiệu quả tối ưu tốt nhất và nhanh hơn hẳn so với hai phương pháp trên.\n",
    "    \n",
    "    + Kết hợp tất cả phương pháp mang lại kết quả tốt nhất\n",
    "\n",
    "- Tính đúng đắn:\n",
    "\n",
    "Độ chính xác đạt 82.96% do đó kết quả khi chạy song song hóa cho lớp Convolution với tối ưu kết hợp cả 3 cách là chính xác vì kết quả này tương đương với khi thực thi trên host."
   ]
  },
  {
   "cell_type": "markdown",
   "id": "5bf5285d",
   "metadata": {
    "id": "5bf5285d"
   },
   "source": [
    "<a id=\"4_5\"></a>\n",
    "<h3 style='color:#6ac61f; font-size: 25px'> e. Chọn BlockSize</h3>"
   ]
  },
  {
   "cell_type": "markdown",
   "id": "3fde40f5",
   "metadata": {
    "id": "3fde40f5"
   },
   "source": [
    "Thực hiện chọn BlockSize trên dựa trên kernel cuối cùng (kernel kết hợp tất cả các phương pháp tối ưu). Với BlockSize lần lượt là 4, 16, 32 ta được kết quả:\n",
    "\n",
    "### BlockSize = 4\n",
    "\n",
    "![image.png](./image/bs4.png)\n",
    "\n",
    "### BlockSize = 16\n",
    "\n",
    "![image-2.png](./image/bs16.png)\n",
    "\n",
    "\n",
    "### BlockSize = 32\n",
    "\n",
    "![image-3.png](./image/bs32.png)\n"
   ]
  },
  {
   "cell_type": "markdown",
   "id": "486630d8",
   "metadata": {
    "id": "486630d8"
   },
   "source": [
    "### Kết quả\n",
    "\n",
    "|BlockSize| C1 Time | C3 Time|\n",
    "|---------|---------|--------|\n",
    "|4|42.2924|24.1512|\n",
    "|16|15.9573|12.9168|\n",
    "|32|18.4023|51.212|\n"
   ]
  },
  {
   "cell_type": "markdown",
   "id": "82051814",
   "metadata": {
    "id": "82051814"
   },
   "source": [
    "**Nhận xét:** Từ kết quả thực nghiệm có thể thấy, khi blockSize quá nhỏ hoặc quá lớn đều làm tốc độ thực thi của chương trình giảm. Do đó, cần chọn blockSize kích thước phù hợp để chương trình đạt tốc độ tốt nhất."
   ]
  },
  {
   "cell_type": "markdown",
   "id": "7fdd58f4",
   "metadata": {
    "id": "7fdd58f4"
   },
   "source": [
    "<a id=\"5\"></a>\n",
    "<div style=\" background-color:#cdf7c1 ; color:#e3395e; padding: 15px; border-radius:5px;text-align: center; border-style: solid; border-color: green; font-size: 35px\">5. Tự đánh giá đồ án</div>"
   ]
  },
  {
   "cell_type": "markdown",
   "id": "2226c38e",
   "metadata": {
    "id": "2226c38e"
   },
   "source": [
    "<a id=\"5_1\"></a>\n",
    "<h3 style='color:#6ac61f; font-size: 25px'> a. Những gì đã làm được và chưa làm được</h3>"
   ]
  },
  {
   "cell_type": "markdown",
   "id": "a440a315",
   "metadata": {
    "id": "a440a315"
   },
   "source": [
    "- Những điều đã làm được:\n",
    "    + Điều chỉnh code của framework để chạy trên bộ dữ liệu mới\n",
    "    + Cài đặt song song hóa cho lớp Convolution trong mạng Lenet-5\n",
    "    + Thực hiện một số cài đặt tối ưu hóa song song:\n",
    "        + Loop unroll\n",
    "        + Sử dụng shared memory và constant memory\n",
    "        + Sử dụng stream\n",
    "        + Kết hợp các phương pháp tối ưu trên\n",
    "        + Duyệt qua các blockSize để tìm ra blockSize phù hợp\n",
    "- Những điều chưa làm được:\n",
    "    + Giảm số kênh đầu vào"
   ]
  },
  {
   "cell_type": "markdown",
   "id": "15841bf6",
   "metadata": {
    "id": "15841bf6"
   },
   "source": [
    "<a id=\"5_2\"></a>\n",
    "<h3 style='color:#6ac61f; font-size: 25px'> b. Bước tiếp theo và những khó khăn gặp phải và kinh nghiệm giải quyết</h3>"
   ]
  },
  {
   "cell_type": "markdown",
   "id": "b44f41a9",
   "metadata": {
    "id": "b44f41a9"
   },
   "source": [
    "- Nếu có thêm thời gian nhóm em sẽ thực hiện thêm:\n",
    "    + Giảm số kênh đầu vào\n",
    "    + Thuật toán nhân ma trận nâng cao\n",
    "- Khó khăn:\n",
    "    + Gặp lỗi khi chạy thư viện Eigen trên CUDA\n",
    "        > Sau khi tìm hiểu nhóm biết được nvcc có thể biên dịch file .cc do đó có thể giữ nguyên file này và import file .cu để chạy.\n",
    "    + Lỗi khi chạy GridSize với hai chiều với số lượng mẫu đầu vào lớn\n",
    "        > Thử lại với GridSize ba chiều và kết quả hoạt động\n",
    "    + Lỗi stream không overlap\n",
    "        > Sau khi phân tích với NVIDIA Nsight Systems nhóm nhận thấy vùng nhớ của dữ liệu cần copy ở host lên device và ngược lại đang nằm ở Pageable mememory nên chuyển sang pinned memmory.\n",
    "    "
   ]
  },
  {
   "cell_type": "markdown",
   "id": "2c3a8fe9",
   "metadata": {
    "id": "2c3a8fe9"
   },
   "source": [
    "<a id=\"6\"></a>\n",
    "<div style=\" background-color:#cdf7c1 ; color:#e3395e; padding: 15px; border-radius:5px;text-align: center; border-style: solid; border-color: green; font-size: 35px\">6. Phân công</div>"
   ]
  },
  {
   "cell_type": "markdown",
   "id": "e73893cc",
   "metadata": {
    "id": "e73893cc"
   },
   "source": [
    "|Hoài                             | Nghĩa                                     |\n",
    "|:------------------------------------------------|:---------------------------------------------------|\n",
    "| Đọc, tìm hiểu về project                       | Đọc, tìm hiểu về project                          |\n",
    "| Chỉnh sửa framework để chạy trên tập dữ liệu mới | Chỉnh sửa framework để có kiến trúc Lenet-5       |\n",
    "| Viết code save, load model                     | Viết thêm lớp Convolution hoạt động trên GPU       |\n",
    "| Viết hàm kernel song song hóa cơ bản cho Convolution | Viết hàm kernel song song hóa cơ bản cho Convolution |\n",
    "| Tối ưu song song hóa với unroll, shared memory, constant memory | Tối ưu song song hóa với stream         |\n",
    "| Viết report                                   | Kết hợp 3 phương pháp tối ưu                     |\n",
    "|                                               | Viết Makefile, README                            |\n"
   ]
  },
  {
   "cell_type": "markdown",
   "id": "b5bcdf37",
   "metadata": {
    "id": "b5bcdf37"
   },
   "source": [
    "**Video demo** : [Đồ án Lập trình song song - Nhóm 13 - HCMUS - 2023-2024](https://www.youtube.com/watch?v=HLLNnBKUuLM)"
   ]
  },
  {
   "cell_type": "markdown",
   "id": "d44adbba",
   "metadata": {
    "id": "d44adbba"
   },
   "source": [
    "<a id=\"7\"></a>\n",
    "<div style=\" background-color:#cdf7c1 ; color:#e3395e; padding: 15px; border-radius:5px;text-align: center; border-style: solid; border-color: green; font-size: 35px\">7. Tài liệu tham khảo</div>"
   ]
  },
  {
   "cell_type": "markdown",
   "id": "cce2ab34",
   "metadata": {
    "id": "cce2ab34"
   },
   "source": [
    "1. Chat GPT\n",
    "2. [mini-dnn-cpp](https://github.com/iamhankai/mini-dnn-cpp/tree/master)"
   ]
  }
 ],
 "metadata": {
  "colab": {
   "provenance": []
  },
  "kernelspec": {
   "display_name": "Python 3 (ipykernel)",
   "language": "python",
   "name": "python3"
  },
  "language_info": {
   "codemirror_mode": {
    "name": "ipython",
    "version": 3
   },
   "file_extension": ".py",
   "mimetype": "text/x-python",
   "name": "python",
   "nbconvert_exporter": "python",
   "pygments_lexer": "ipython3",
   "version": "3.10.9"
  }
 },
 "nbformat": 4,
 "nbformat_minor": 5
}
